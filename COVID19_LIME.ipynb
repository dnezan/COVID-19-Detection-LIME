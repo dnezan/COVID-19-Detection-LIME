{
  "nbformat": 4,
  "nbformat_minor": 0,
  "metadata": {
    "colab": {
      "name": "COVID19_LIME",
      "provenance": [],
      "collapsed_sections": []
    },
    "kernelspec": {
      "name": "python3",
      "display_name": "Python 3"
    }
  },
  "cells": [
    {
      "cell_type": "markdown",
      "metadata": {
        "id": "_UYyw4VBQzrc",
        "colab_type": "text"
      },
      "source": [
        "# Explainable COVID-19 Pneumonia\n",
        "### CS-GY-6133 Spring 2020\n",
        "### Project 5\n",
        "### Dinesh Sreekanthan(NetID:ds5786)"
      ]
    },
    {
      "cell_type": "code",
      "metadata": {
        "id": "Uos9-CLoRBRM",
        "colab_type": "code",
        "colab": {}
      },
      "source": [
        "from google.colab import drive\n",
        "drive.mount('/content/drive')"
      ],
      "execution_count": 0,
      "outputs": []
    },
    {
      "cell_type": "markdown",
      "metadata": {
        "id": "CdD8O24uRCPN",
        "colab_type": "text"
      },
      "source": [
        "# Introduction\n",
        "\n",
        "After you succsesfully run this notebook, you will have a cloned file in your Google Colab Drive with file name __COVID(ds5786)__. <br> This is a replication of a study on COVID 19.\n",
        "\n",
        "Let's start!\n"
      ]
    },
    {
      "cell_type": "markdown",
      "metadata": {
        "id": "m4iGZ-jSRJ2c",
        "colab_type": "text"
      },
      "source": [
        "# Mount to your Google Drive"
      ]
    },
    {
      "cell_type": "code",
      "metadata": {
        "id": "Y9OFpQO8RPgs",
        "colab_type": "code",
        "colab": {}
      },
      "source": [
        "from google.colab import drive\n",
        "drive.mount('/content/drive/')"
      ],
      "execution_count": 0,
      "outputs": []
    },
    {
      "cell_type": "markdown",
      "metadata": {
        "id": "KXyYafdvRZbs",
        "colab_type": "text"
      },
      "source": [
        "# Create a file to your Google Drive"
      ]
    },
    {
      "cell_type": "code",
      "metadata": {
        "id": "22Tz2wlARjyB",
        "colab_type": "code",
        "colab": {}
      },
      "source": [
        "%cd \"/content/drive/My Drive/\""
      ],
      "execution_count": 0,
      "outputs": []
    },
    {
      "cell_type": "code",
      "metadata": {
        "id": "HVSRY6ftRm7M",
        "colab_type": "code",
        "colab": {}
      },
      "source": [
        "!mkdir \"COVID(ds5786)\""
      ],
      "execution_count": 0,
      "outputs": []
    },
    {
      "cell_type": "markdown",
      "metadata": {
        "id": "Btngttm4RqLr",
        "colab_type": "text"
      },
      "source": [
        "by running this cell, you will have a directory called __\"COVID(ds5786)\"__ in your google Drive"
      ]
    },
    {
      "cell_type": "code",
      "metadata": {
        "id": "k68czZMlRu90",
        "colab_type": "code",
        "colab": {}
      },
      "source": [
        "!ls"
      ],
      "execution_count": 0,
      "outputs": []
    },
    {
      "cell_type": "markdown",
      "metadata": {
        "id": "fDPDqAqiRysT",
        "colab_type": "text"
      },
      "source": [
        "# Clone Github repository"
      ]
    },
    {
      "cell_type": "markdown",
      "metadata": {
        "id": "fgNquH-rSDFp",
        "colab_type": "text"
      },
      "source": [
        "First, you need to move your current location to the COVID(ds5786), and clone the github repo."
      ]
    },
    {
      "cell_type": "code",
      "metadata": {
        "id": "cyJuw1YaSHAx",
        "colab_type": "code",
        "colab": {}
      },
      "source": [
        "%cd \"/content/drive/My Drive/COVID(ds5786)/\""
      ],
      "execution_count": 0,
      "outputs": []
    },
    {
      "cell_type": "code",
      "metadata": {
        "id": "zhx1n-UeSKYU",
        "colab_type": "code",
        "colab": {}
      },
      "source": [
        "!git clone https://github.com/dnezan/Explainable-COVID-19-Pneumonia.git"
      ],
      "execution_count": 0,
      "outputs": []
    },
    {
      "cell_type": "code",
      "metadata": {
        "id": "SAi11OCZSPfK",
        "colab_type": "code",
        "colab": {}
      },
      "source": [
        "%cd \"/content/drive/My Drive/COVID(ds5786)/Explainable-COVID-19-Pneumonia/covid_19\""
      ],
      "execution_count": 0,
      "outputs": []
    },
    {
      "cell_type": "code",
      "metadata": {
        "id": "5oWbzyRnSS9z",
        "colab_type": "code",
        "colab": {}
      },
      "source": [
        "!ls"
      ],
      "execution_count": 0,
      "outputs": []
    },
    {
      "cell_type": "markdown",
      "metadata": {
        "id": "ZTuxY28UCPgD",
        "colab_type": "text"
      },
      "source": [
        "Install the necessary requirements"
      ]
    },
    {
      "cell_type": "code",
      "metadata": {
        "id": "6ayaYtma9vOi",
        "colab_type": "code",
        "colab": {}
      },
      "source": [
        "pip install -r requirements.txt"
      ],
      "execution_count": 0,
      "outputs": []
    },
    {
      "cell_type": "markdown",
      "metadata": {
        "id": "ViYClGWu4NaV",
        "colab_type": "text"
      },
      "source": [
        "# Datasets"
      ]
    },
    {
      "cell_type": "markdown",
      "metadata": {
        "id": "XmIrWBUAMVpK",
        "colab_type": "text"
      },
      "source": [
        "Save the datasets in your Google Drive as follows. Since Github cannot store repositories larger than 1GB in size, we must manually save the datasets. Create a new folder called `data`in the Google Drive folder. We now import three different datasets into this folder."
      ]
    },
    {
      "cell_type": "markdown",
      "metadata": {
        "id": "brkqk6Z0NyeM",
        "colab_type": "text"
      },
      "source": [
        "First dataset is from https://github.com/ieee8023/covid-chestxray-dataset"
      ]
    },
    {
      "cell_type": "markdown",
      "metadata": {
        "id": "wp1NQ0upOpC6",
        "colab_type": "text"
      },
      "source": [
        "Second dataset is from https://github.com/agchung/Figure1-COVID-chestxray-dataset"
      ]
    },
    {
      "cell_type": "markdown",
      "metadata": {
        "id": "sJ210phSOuJR",
        "colab_type": "text"
      },
      "source": [
        "Third dataset is from https://www.kaggle.com/c/rsna-pneumonia-detection-challenge"
      ]
    },
    {
      "cell_type": "markdown",
      "metadata": {
        "id": "RmMwQgHdOy4G",
        "colab_type": "text"
      },
      "source": [
        "\n",
        "Keep in mind we already have these destination files specified in the `config.yml` file located in our Google Drive as `/content/drive/My Drive/COVID(ds5786)/Explainable-COVID-19-Pneumonia/covid_19/data/`"
      ]
    },
    {
      "cell_type": "markdown",
      "metadata": {
        "id": "KG85RhrsPO14",
        "colab_type": "text"
      },
      "source": [
        "# Executing the Code\n",
        "Now that we have our dataset in our Google Drive, we can start executing the code. In order to carry out the preprocessing code to create Pandas DataFrames of filenames and labels, run the following command. "
      ]
    },
    {
      "cell_type": "code",
      "metadata": {
        "id": "I7xa24oXMlw4",
        "colab_type": "code",
        "outputId": "22c171cc-6960-4ef8-a75c-4fd3274d7182",
        "colab": {
          "base_uri": "https://localhost:8080/",
          "height": 33
        }
      },
      "source": [
        "%cd \"/content/drive/My Drive/COVID(ds5786)/Explainable-COVID-19-Pneumonia/covid_19/src/data/\""
      ],
      "execution_count": 0,
      "outputs": [
        {
          "output_type": "stream",
          "text": [
            "/content/drive/My Drive/COVID(ds5786)/Explainable-COVID-19-Pneumonia/covid_19/src/data\n"
          ],
          "name": "stdout"
        }
      ]
    },
    {
      "cell_type": "code",
      "metadata": {
        "id": "l7vB-08BWWum",
        "colab_type": "code",
        "outputId": "a6308bea-4a13-480d-a8e1-a5e572c705b1",
        "colab": {
          "base_uri": "https://localhost:8080/",
          "height": 33
        }
      },
      "source": [
        "!ls"
      ],
      "execution_count": 0,
      "outputs": [
        {
          "output_type": "stream",
          "text": [
            "config.yml  __init__.py  preprocess.py\n"
          ],
          "name": "stdout"
        }
      ]
    },
    {
      "cell_type": "code",
      "metadata": {
        "id": "GK2ge1vISGBp",
        "colab_type": "code",
        "colab": {}
      },
      "source": [
        "!python \"/content/drive/My Drive/COVID(ds5786)/Explainable-COVID-19-Pneumonia/covid_19/src/data/preprocess.py\""
      ],
      "execution_count": 0,
      "outputs": []
    },
    {
      "cell_type": "markdown",
      "metadata": {
        "id": "2WxwFXuQXlQH",
        "colab_type": "text"
      },
      "source": [
        "If you have correctly saved the datasets in the `data` folder, the preprocessing python file will save the preprocessed DataFrames and corresponding images of the dataset within the `data/preprocessed/` folder. We can now observe that we have new folders titled `train, test,` and `val` within `data/preprocessed`, and three new files titled `train_set.csv, val_set.csv, and test_set.csv.`"
      ]
    },
    {
      "cell_type": "markdown",
      "metadata": {
        "id": "xyjT4MvUZh50",
        "colab_type": "text"
      },
      "source": [
        "Now that we have preprocessed the files, we can now train the neural network by running `train.py`\n"
      ]
    },
    {
      "cell_type": "code",
      "metadata": {
        "id": "ijP3LOK1ZwYK",
        "colab_type": "code",
        "colab": {}
      },
      "source": [
        "!python \"/content/drive/My Drive/COVID(ds5786)/Explainable-COVID-19-Pneumonia/covid_19/src/train.py\""
      ],
      "execution_count": 0,
      "outputs": []
    },
    {
      "cell_type": "markdown",
      "metadata": {
        "id": "qDLwQ9z9Z3Qb",
        "colab_type": "text"
      },
      "source": [
        "Please take note that training the neural networks may take several hours using GPU on Colab. The K80 GPU on Colab may be very slow so please be patient. Ensure that Colab does not timeout during code execution. We follow a few optimizations to make the processing more efficient such as **lowering the epochs significantly from the default 200 to 10**. We also have updated config.yml to use our Google Drive project destination after the model weights are generated."
      ]
    },
    {
      "cell_type": "markdown",
      "metadata": {
        "id": "5QTCOtYb32m_",
        "colab_type": "text"
      },
      "source": [
        "In this project, we carry out binary prediction; we only predict 0 or 1 in case the predictor predicts a case of COVID-19. "
      ]
    },
    {
      "cell_type": "markdown",
      "metadata": {
        "id": "Eo4qN4Od4ZZU",
        "colab_type": "text"
      },
      "source": [
        "#LIME Explanations\n",
        "Because we use a neural network as our model, it is not easy to describe the rules or heuristics that it uses. Therefore we use Local Interpretable Model-Agnostic Explanations (LIME) to describe the outputs of the neural network, which conducts informed feature engineering based on any obviously inconsequential features. To generate explanations for our test images, run the following command."
      ]
    },
    {
      "cell_type": "code",
      "metadata": {
        "id": "sid9mLqz5031",
        "colab_type": "code",
        "colab": {}
      },
      "source": [
        "!python \"/content/drive/My Drive/COVID(ds5786)/Explainable-COVID-19-Pneumonia/covid_19/src/interpretability/lime_explain.py\""
      ],
      "execution_count": 0,
      "outputs": []
    },
    {
      "cell_type": "markdown",
      "metadata": {
        "id": "Z9VC3WBT52N2",
        "colab_type": "text"
      },
      "source": [
        "\n",
        "After running this code for 2-3 test cases, an image will be generated that depicts the superpixels contributed most to the model's prediction. These superpixels that contributed toward a prediction of COVID-19 are colored green and superpixels that contributed against a prediction of COVID-19 are colored red. In the same folder, we have a CSV containing the prediction results."
      ]
    },
    {
      "cell_type": "markdown",
      "metadata": {
        "id": "z3Uw3-8M8YOV",
        "colab_type": "text"
      },
      "source": [
        "![alt text](https://raw.githubusercontent.com/dnezan/Explainable-COVID-19-Pneumonia/master/covid_19/results/predictions/LIME_example0.png)"
      ]
    }
  ]
}