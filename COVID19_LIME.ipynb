{
  "nbformat": 4,
  "nbformat_minor": 0,
  "metadata": {
    "colab": {
      "name": "COVID19",
      "provenance": [],
      "collapsed_sections": []
    },
    "kernelspec": {
      "name": "python3",
      "display_name": "Python 3"
    }
  },
  "cells": [
    {
      "cell_type": "markdown",
      "metadata": {
        "id": "_UYyw4VBQzrc",
        "colab_type": "text"
      },
      "source": [
        "# Explainable COVID-19 Pneumonia\n",
        "### CS-GY-6133 Spring 2020\n",
        "### Project 5\n",
        "### Dinesh Sreekanthan(NetID:ds5786)"
      ]
    },
    {
      "cell_type": "code",
      "metadata": {
        "id": "Uos9-CLoRBRM",
        "colab_type": "code",
        "outputId": "2ca1c97e-9429-4bc0-e6e7-130b9bdb4d8a",
        "colab": {
          "base_uri": "https://localhost:8080/",
          "height": 33
        }
      },
      "source": [
        "from google.colab import drive\n",
        "drive.mount('/content/drive')"
      ],
      "execution_count": 11,
      "outputs": [
        {
          "output_type": "stream",
          "text": [
            "Drive already mounted at /content/drive; to attempt to forcibly remount, call drive.mount(\"/content/drive\", force_remount=True).\n"
          ],
          "name": "stdout"
        }
      ]
    },
    {
      "cell_type": "markdown",
      "metadata": {
        "id": "CdD8O24uRCPN",
        "colab_type": "text"
      },
      "source": [
        "# Introduction\n",
        "\n",
        "After you succsesfully run this notebook, you will have a cloned file in your Google Colab Drive with file name __COVID(ds5786)__. <br> This is a replication of a study on COVID 19.\n",
        "\n",
        "Let's start!\n"
      ]
    },
    {
      "cell_type": "markdown",
      "metadata": {
        "id": "m4iGZ-jSRJ2c",
        "colab_type": "text"
      },
      "source": [
        "# Mount to your Google Drive"
      ]
    },
    {
      "cell_type": "code",
      "metadata": {
        "id": "Y9OFpQO8RPgs",
        "colab_type": "code",
        "outputId": "bdbfe1b2-d088-49f1-b489-bfa00447af0e",
        "colab": {
          "base_uri": "https://localhost:8080/",
          "height": 33
        }
      },
      "source": [
        "from google.colab import drive\n",
        "drive.mount('/content/drive/')"
      ],
      "execution_count": 12,
      "outputs": [
        {
          "output_type": "stream",
          "text": [
            "Drive already mounted at /content/drive/; to attempt to forcibly remount, call drive.mount(\"/content/drive/\", force_remount=True).\n"
          ],
          "name": "stdout"
        }
      ]
    },
    {
      "cell_type": "markdown",
      "metadata": {
        "id": "KXyYafdvRZbs",
        "colab_type": "text"
      },
      "source": [
        "# Create a file to your Google Drive"
      ]
    },
    {
      "cell_type": "code",
      "metadata": {
        "id": "22Tz2wlARjyB",
        "colab_type": "code",
        "outputId": "9cda06d9-a0b0-45bc-b3db-903fbc075085",
        "colab": {
          "base_uri": "https://localhost:8080/",
          "height": 33
        }
      },
      "source": [
        "%cd \"/content/drive/My Drive/\""
      ],
      "execution_count": 13,
      "outputs": [
        {
          "output_type": "stream",
          "text": [
            "/content/drive/My Drive\n"
          ],
          "name": "stdout"
        }
      ]
    },
    {
      "cell_type": "code",
      "metadata": {
        "id": "HVSRY6ftRm7M",
        "colab_type": "code",
        "colab": {}
      },
      "source": [
        "!mkdir \"COVID(ds5786)\""
      ],
      "execution_count": 0,
      "outputs": []
    },
    {
      "cell_type": "markdown",
      "metadata": {
        "id": "Btngttm4RqLr",
        "colab_type": "text"
      },
      "source": [
        "by running this cell, you will have a directory called __\"COVID(ds5786)\"__ in your google Drive"
      ]
    },
    {
      "cell_type": "code",
      "metadata": {
        "id": "k68czZMlRu90",
        "colab_type": "code",
        "outputId": "eeed25a6-89fe-45cd-f999-518c6a974883",
        "colab": {
          "base_uri": "https://localhost:8080/",
          "height": 234
        }
      },
      "source": [
        "!ls"
      ],
      "execution_count": 18,
      "outputs": [
        {
          "output_type": "stream",
          "text": [
            " BUGS.gdoc\t\t\t\t    Homework\n",
            " BUGS.txt\t\t\t\t   'Homework1 Fall 2018.pdf'\n",
            "'challenges_Bigdata (1).gdoc'\t\t    hw3_p4.sql\n",
            "'challenges_Bigdata (2).gdoc'\t\t    Notes\n",
            " challenges_Bigdata.docx\t\t    os\n",
            " challenges_Bigdata.gdoc\t\t    project\n",
            "'Colab Notebooks'\t\t\t   'Project Report 1.docx'\n",
            "'COVID(ds5786)'\t\t\t\t   'Project Report 1.gdoc'\n",
            "'CS6133_MINST(id1,id2)'\t\t\t    ScannedDocument.pdf\n",
            "'CS 6643 Project 2: Human Detection.gdoc'   Scans\n",
            "'DBMS Project'\t\t\t\t   'seat map.pdf'\n",
            "'Dinesh _ NYU RESUME.gdoc'\t\t   'Untitled document.gdoc'\n",
            "'Dinesh _ NYU RESUME.pdf'\n"
          ],
          "name": "stdout"
        }
      ]
    },
    {
      "cell_type": "markdown",
      "metadata": {
        "id": "fDPDqAqiRysT",
        "colab_type": "text"
      },
      "source": [
        "# Clone Github repository"
      ]
    },
    {
      "cell_type": "markdown",
      "metadata": {
        "id": "fgNquH-rSDFp",
        "colab_type": "text"
      },
      "source": [
        "First, you need to move your current location to the COVID(ds5786), and clone the github repo."
      ]
    },
    {
      "cell_type": "code",
      "metadata": {
        "id": "cyJuw1YaSHAx",
        "colab_type": "code",
        "outputId": "52b6d931-4a6f-4bc6-bc9f-017bdfc07ded",
        "colab": {
          "base_uri": "https://localhost:8080/",
          "height": 33
        }
      },
      "source": [
        "%cd \"/content/drive/My Drive/COVID(ds5786)/\""
      ],
      "execution_count": 19,
      "outputs": [
        {
          "output_type": "stream",
          "text": [
            "/content/drive/My Drive/COVID(ds5786)\n"
          ],
          "name": "stdout"
        }
      ]
    },
    {
      "cell_type": "code",
      "metadata": {
        "id": "zhx1n-UeSKYU",
        "colab_type": "code",
        "outputId": "28a300f2-fc13-4d8b-9507-786c265d5383",
        "colab": {
          "base_uri": "https://localhost:8080/",
          "height": 117
        }
      },
      "source": [
        "!git clone https://github.com/dnezan/Explainable-COVID-19-Pneumonia.git"
      ],
      "execution_count": 20,
      "outputs": [
        {
          "output_type": "stream",
          "text": [
            "Cloning into 'Explainable-COVID-19-Pneumonia'...\n",
            "remote: Enumerating objects: 71, done.\u001b[K\n",
            "remote: Counting objects: 100% (71/71), done.\u001b[K\n",
            "remote: Compressing objects: 100% (57/57), done.\u001b[K\n",
            "remote: Total 71 (delta 13), reused 32 (delta 5), pack-reused 0\u001b[K\n",
            "Unpacking objects: 100% (71/71), done.\n"
          ],
          "name": "stdout"
        }
      ]
    },
    {
      "cell_type": "code",
      "metadata": {
        "id": "SAi11OCZSPfK",
        "colab_type": "code",
        "outputId": "268438ea-a6b7-4c7c-f503-51fa31aaa119",
        "colab": {
          "base_uri": "https://localhost:8080/",
          "height": 33
        }
      },
      "source": [
        "%cd \"/content/drive/My Drive/COVID(ds5786)/Explainable-COVID-19-Pneumonia/covid_19\""
      ],
      "execution_count": 21,
      "outputs": [
        {
          "output_type": "stream",
          "text": [
            "/content/drive/My Drive/COVID(ds5786)/Explainable-COVID-19-Pneumonia/covid_19\n"
          ],
          "name": "stdout"
        }
      ]
    },
    {
      "cell_type": "code",
      "metadata": {
        "id": "5oWbzyRnSS9z",
        "colab_type": "code",
        "outputId": "9fa17669-4b90-471f-b007-294f617af615",
        "colab": {
          "base_uri": "https://localhost:8080/",
          "height": 33
        }
      },
      "source": [
        "!ls"
      ],
      "execution_count": 22,
      "outputs": [
        {
          "output_type": "stream",
          "text": [
            "azure  config.yml  data  documents  LICENSE  requirements.txt  results\tsrc\n"
          ],
          "name": "stdout"
        }
      ]
    },
    {
      "cell_type": "markdown",
      "metadata": {
        "id": "ZTuxY28UCPgD",
        "colab_type": "text"
      },
      "source": [
        "Install the necessary requirements"
      ]
    },
    {
      "cell_type": "code",
      "metadata": {
        "id": "6ayaYtma9vOi",
        "colab_type": "code",
        "outputId": "82093bc4-8cc5-4609-d352-47d423b5d5fe",
        "colab": {
          "base_uri": "https://localhost:8080/",
          "height": 1000
        }
      },
      "source": [
        "pip install -r requirements.txt"
      ],
      "execution_count": 23,
      "outputs": [
        {
          "output_type": "stream",
          "text": [
            "Requirement already satisfied: pyyaml==5.2 in /usr/local/lib/python3.6/dist-packages (from -r requirements.txt (line 1)) (5.2)\n",
            "Requirement already satisfied: matplotlib==3.1.1 in /usr/local/lib/python3.6/dist-packages (from -r requirements.txt (line 2)) (3.1.1)\n",
            "Requirement already satisfied: tqdm==4.40.2 in /usr/local/lib/python3.6/dist-packages (from -r requirements.txt (line 3)) (4.40.2)\n",
            "Requirement already satisfied: opencv_python==4.1.0.25 in /usr/local/lib/python3.6/dist-packages (from -r requirements.txt (line 4)) (4.1.0.25)\n",
            "Requirement already satisfied: tensorflow_gpu==2.0.1 in /usr/local/lib/python3.6/dist-packages (from -r requirements.txt (line 5)) (2.0.1)\n",
            "Requirement already satisfied: dill==0.3.0 in /usr/local/lib/python3.6/dist-packages (from -r requirements.txt (line 6)) (0.3.0)\n",
            "Requirement already satisfied: scikit_image==0.15.0 in /usr/local/lib/python3.6/dist-packages (from -r requirements.txt (line 7)) (0.15.0)\n",
            "Requirement already satisfied: numpy==1.17.4 in /usr/local/lib/python3.6/dist-packages (from -r requirements.txt (line 8)) (1.17.4)\n",
            "Requirement already satisfied: pandas==0.25.3 in /usr/local/lib/python3.6/dist-packages (from -r requirements.txt (line 9)) (0.25.3)\n",
            "Requirement already satisfied: pydicom==1.4.2 in /usr/local/lib/python3.6/dist-packages (from -r requirements.txt (line 10)) (1.4.2)\n",
            "Requirement already satisfied: imbalanced_learn==0.6.1 in /usr/local/lib/python3.6/dist-packages (from -r requirements.txt (line 11)) (0.6.1)\n",
            "Requirement already satisfied: tensorboard==2.0.2 in /usr/local/lib/python3.6/dist-packages (from -r requirements.txt (line 12)) (2.0.2)\n",
            "Requirement already satisfied: lime==0.1.1.37 in /usr/local/lib/python3.6/dist-packages (from -r requirements.txt (line 13)) (0.1.1.37)\n",
            "Requirement already satisfied: cycler>=0.10 in /usr/local/lib/python3.6/dist-packages (from matplotlib==3.1.1->-r requirements.txt (line 2)) (0.10.0)\n",
            "Requirement already satisfied: python-dateutil>=2.1 in /usr/local/lib/python3.6/dist-packages (from matplotlib==3.1.1->-r requirements.txt (line 2)) (2.8.1)\n",
            "Requirement already satisfied: kiwisolver>=1.0.1 in /usr/local/lib/python3.6/dist-packages (from matplotlib==3.1.1->-r requirements.txt (line 2)) (1.2.0)\n",
            "Requirement already satisfied: pyparsing!=2.0.4,!=2.1.2,!=2.1.6,>=2.0.1 in /usr/local/lib/python3.6/dist-packages (from matplotlib==3.1.1->-r requirements.txt (line 2)) (2.4.7)\n",
            "Requirement already satisfied: opt-einsum>=2.3.2 in /usr/local/lib/python3.6/dist-packages (from tensorflow_gpu==2.0.1->-r requirements.txt (line 5)) (3.2.1)\n",
            "Requirement already satisfied: termcolor>=1.1.0 in /usr/local/lib/python3.6/dist-packages (from tensorflow_gpu==2.0.1->-r requirements.txt (line 5)) (1.1.0)\n",
            "Requirement already satisfied: google-pasta>=0.1.6 in /usr/local/lib/python3.6/dist-packages (from tensorflow_gpu==2.0.1->-r requirements.txt (line 5)) (0.2.0)\n",
            "Requirement already satisfied: keras-applications>=1.0.8 in /usr/local/lib/python3.6/dist-packages (from tensorflow_gpu==2.0.1->-r requirements.txt (line 5)) (1.0.8)\n",
            "Requirement already satisfied: absl-py>=0.7.0 in /usr/local/lib/python3.6/dist-packages (from tensorflow_gpu==2.0.1->-r requirements.txt (line 5)) (0.9.0)\n",
            "Requirement already satisfied: wheel>=0.26; python_version >= \"3\" in /usr/local/lib/python3.6/dist-packages (from tensorflow_gpu==2.0.1->-r requirements.txt (line 5)) (0.34.2)\n",
            "Requirement already satisfied: grpcio>=1.8.6 in /usr/local/lib/python3.6/dist-packages (from tensorflow_gpu==2.0.1->-r requirements.txt (line 5)) (1.28.1)\n",
            "Requirement already satisfied: astor>=0.6.0 in /usr/local/lib/python3.6/dist-packages (from tensorflow_gpu==2.0.1->-r requirements.txt (line 5)) (0.8.1)\n",
            "Requirement already satisfied: tensorflow-estimator<2.1.0,>=2.0.0 in /usr/local/lib/python3.6/dist-packages (from tensorflow_gpu==2.0.1->-r requirements.txt (line 5)) (2.0.1)\n",
            "Requirement already satisfied: keras-preprocessing>=1.0.5 in /usr/local/lib/python3.6/dist-packages (from tensorflow_gpu==2.0.1->-r requirements.txt (line 5)) (1.1.0)\n",
            "Requirement already satisfied: six>=1.10.0 in /usr/local/lib/python3.6/dist-packages (from tensorflow_gpu==2.0.1->-r requirements.txt (line 5)) (1.12.0)\n",
            "Requirement already satisfied: gast==0.2.2 in /usr/local/lib/python3.6/dist-packages (from tensorflow_gpu==2.0.1->-r requirements.txt (line 5)) (0.2.2)\n",
            "Requirement already satisfied: wrapt>=1.11.1 in /usr/local/lib/python3.6/dist-packages (from tensorflow_gpu==2.0.1->-r requirements.txt (line 5)) (1.12.1)\n",
            "Requirement already satisfied: protobuf>=3.6.1 in /usr/local/lib/python3.6/dist-packages (from tensorflow_gpu==2.0.1->-r requirements.txt (line 5)) (3.10.0)\n",
            "Requirement already satisfied: PyWavelets>=0.4.0 in /usr/local/lib/python3.6/dist-packages (from scikit_image==0.15.0->-r requirements.txt (line 7)) (1.1.1)\n",
            "Requirement already satisfied: pillow>=4.3.0 in /usr/local/lib/python3.6/dist-packages (from scikit_image==0.15.0->-r requirements.txt (line 7)) (7.0.0)\n",
            "Requirement already satisfied: networkx>=2.0 in /usr/local/lib/python3.6/dist-packages (from scikit_image==0.15.0->-r requirements.txt (line 7)) (2.4)\n",
            "Requirement already satisfied: imageio>=2.0.1 in /usr/local/lib/python3.6/dist-packages (from scikit_image==0.15.0->-r requirements.txt (line 7)) (2.4.1)\n",
            "Requirement already satisfied: scipy>=0.17.0 in /usr/local/lib/python3.6/dist-packages (from scikit_image==0.15.0->-r requirements.txt (line 7)) (1.4.1)\n",
            "Requirement already satisfied: pytz>=2017.2 in /usr/local/lib/python3.6/dist-packages (from pandas==0.25.3->-r requirements.txt (line 9)) (2018.9)\n",
            "Requirement already satisfied: joblib>=0.11 in /usr/local/lib/python3.6/dist-packages (from imbalanced_learn==0.6.1->-r requirements.txt (line 11)) (0.14.1)\n",
            "Requirement already satisfied: scikit-learn>=0.22 in /usr/local/lib/python3.6/dist-packages (from imbalanced_learn==0.6.1->-r requirements.txt (line 11)) (0.22.2.post1)\n",
            "Requirement already satisfied: markdown>=2.6.8 in /usr/local/lib/python3.6/dist-packages (from tensorboard==2.0.2->-r requirements.txt (line 12)) (3.2.1)\n",
            "Requirement already satisfied: setuptools>=41.0.0 in /usr/local/lib/python3.6/dist-packages (from tensorboard==2.0.2->-r requirements.txt (line 12)) (46.1.3)\n",
            "Requirement already satisfied: google-auth-oauthlib<0.5,>=0.4.1 in /usr/local/lib/python3.6/dist-packages (from tensorboard==2.0.2->-r requirements.txt (line 12)) (0.4.1)\n",
            "Requirement already satisfied: requests<3,>=2.21.0 in /usr/local/lib/python3.6/dist-packages (from tensorboard==2.0.2->-r requirements.txt (line 12)) (2.23.0)\n",
            "Requirement already satisfied: werkzeug>=0.11.15 in /usr/local/lib/python3.6/dist-packages (from tensorboard==2.0.2->-r requirements.txt (line 12)) (1.0.1)\n",
            "Requirement already satisfied: google-auth<2,>=1.6.3 in /usr/local/lib/python3.6/dist-packages (from tensorboard==2.0.2->-r requirements.txt (line 12)) (1.7.2)\n",
            "Requirement already satisfied: progressbar in /usr/local/lib/python3.6/dist-packages (from lime==0.1.1.37->-r requirements.txt (line 13)) (2.5)\n",
            "Requirement already satisfied: h5py in /usr/local/lib/python3.6/dist-packages (from keras-applications>=1.0.8->tensorflow_gpu==2.0.1->-r requirements.txt (line 5)) (2.10.0)\n",
            "Requirement already satisfied: decorator>=4.3.0 in /usr/local/lib/python3.6/dist-packages (from networkx>=2.0->scikit_image==0.15.0->-r requirements.txt (line 7)) (4.4.2)\n",
            "Requirement already satisfied: requests-oauthlib>=0.7.0 in /usr/local/lib/python3.6/dist-packages (from google-auth-oauthlib<0.5,>=0.4.1->tensorboard==2.0.2->-r requirements.txt (line 12)) (1.3.0)\n",
            "Requirement already satisfied: urllib3!=1.25.0,!=1.25.1,<1.26,>=1.21.1 in /usr/local/lib/python3.6/dist-packages (from requests<3,>=2.21.0->tensorboard==2.0.2->-r requirements.txt (line 12)) (1.24.3)\n",
            "Requirement already satisfied: idna<3,>=2.5 in /usr/local/lib/python3.6/dist-packages (from requests<3,>=2.21.0->tensorboard==2.0.2->-r requirements.txt (line 12)) (2.9)\n",
            "Requirement already satisfied: chardet<4,>=3.0.2 in /usr/local/lib/python3.6/dist-packages (from requests<3,>=2.21.0->tensorboard==2.0.2->-r requirements.txt (line 12)) (3.0.4)\n",
            "Requirement already satisfied: certifi>=2017.4.17 in /usr/local/lib/python3.6/dist-packages (from requests<3,>=2.21.0->tensorboard==2.0.2->-r requirements.txt (line 12)) (2020.4.5.1)\n",
            "Requirement already satisfied: rsa<4.1,>=3.1.4 in /usr/local/lib/python3.6/dist-packages (from google-auth<2,>=1.6.3->tensorboard==2.0.2->-r requirements.txt (line 12)) (4.0)\n",
            "Requirement already satisfied: cachetools<3.2,>=2.0.0 in /usr/local/lib/python3.6/dist-packages (from google-auth<2,>=1.6.3->tensorboard==2.0.2->-r requirements.txt (line 12)) (3.1.1)\n",
            "Requirement already satisfied: pyasn1-modules>=0.2.1 in /usr/local/lib/python3.6/dist-packages (from google-auth<2,>=1.6.3->tensorboard==2.0.2->-r requirements.txt (line 12)) (0.2.8)\n",
            "Requirement already satisfied: oauthlib>=3.0.0 in /usr/local/lib/python3.6/dist-packages (from requests-oauthlib>=0.7.0->google-auth-oauthlib<0.5,>=0.4.1->tensorboard==2.0.2->-r requirements.txt (line 12)) (3.1.0)\n",
            "Requirement already satisfied: pyasn1>=0.1.3 in /usr/local/lib/python3.6/dist-packages (from rsa<4.1,>=3.1.4->google-auth<2,>=1.6.3->tensorboard==2.0.2->-r requirements.txt (line 12)) (0.4.8)\n"
          ],
          "name": "stdout"
        }
      ]
    },
    {
      "cell_type": "markdown",
      "metadata": {
        "id": "XmIrWBUAMVpK",
        "colab_type": "text"
      },
      "source": [
        "Save the datasets in your Google Drive as follows. Since Github cannot store repositories larger than 1GB in size, we must manually save the datasets. Create a new folder called `data`in the Google Drive folder. We now import three different datasets into this folder."
      ]
    },
    {
      "cell_type": "markdown",
      "metadata": {
        "id": "brkqk6Z0NyeM",
        "colab_type": "text"
      },
      "source": [
        "First dataset is from https://github.com/ieee8023/covid-chestxray-dataset"
      ]
    },
    {
      "cell_type": "markdown",
      "metadata": {
        "id": "wp1NQ0upOpC6",
        "colab_type": "text"
      },
      "source": [
        "Second dataset is from https://github.com/agchung/Figure1-COVID-chestxray-dataset"
      ]
    },
    {
      "cell_type": "markdown",
      "metadata": {
        "id": "sJ210phSOuJR",
        "colab_type": "text"
      },
      "source": [
        "Third dataset is from https://www.kaggle.com/c/rsna-pneumonia-detection-challenge"
      ]
    },
    {
      "cell_type": "markdown",
      "metadata": {
        "id": "RmMwQgHdOy4G",
        "colab_type": "text"
      },
      "source": [
        "Keep in mind we already have these destination files specified in the `config.yml` file located in our Google Drive as `/content/drive/My Drive/COVID(ds5786)/Explainable-COVID-19-Pneumonia/covid_19/data/`"
      ]
    },
    {
      "cell_type": "markdown",
      "metadata": {
        "id": "KG85RhrsPO14",
        "colab_type": "text"
      },
      "source": [
        "Now that we have our dataset in our Google Drive, we can start executing the code. In order to carry out the preprocessing code to create Pandas DataFrames of filenames and labels, run the following command. "
      ]
    },
    {
      "cell_type": "code",
      "metadata": {
        "id": "I7xa24oXMlw4",
        "colab_type": "code",
        "colab": {
          "base_uri": "https://localhost:8080/",
          "height": 33
        },
        "outputId": "7be29343-e9fc-4693-dfa1-75604f1c724d"
      },
      "source": [
        "%cd \"/content/drive/My Drive/COVID(ds5786)/Explainable-COVID-19-Pneumonia/covid_19/src/data/\""
      ],
      "execution_count": 34,
      "outputs": [
        {
          "output_type": "stream",
          "text": [
            "/content/drive/My Drive/COVID(ds5786)/Explainable-COVID-19-Pneumonia/covid_19/src/data\n"
          ],
          "name": "stdout"
        }
      ]
    },
    {
      "cell_type": "code",
      "metadata": {
        "id": "l7vB-08BWWum",
        "colab_type": "code",
        "colab": {
          "base_uri": "https://localhost:8080/",
          "height": 33
        },
        "outputId": "b8f6589e-7c8c-47bd-8dd8-4f7453b863cb"
      },
      "source": [
        "!ls"
      ],
      "execution_count": 35,
      "outputs": [
        {
          "output_type": "stream",
          "text": [
            "config.yml  __init__.py  preprocess.py\n"
          ],
          "name": "stdout"
        }
      ]
    },
    {
      "cell_type": "code",
      "metadata": {
        "id": "GK2ge1vISGBp",
        "colab_type": "code",
        "colab": {
          "base_uri": "https://localhost:8080/",
          "height": 371
        },
        "outputId": "532e3677-d767-4352-d63d-7dedabee1c54"
      },
      "source": [
        "!python \"/content/drive/My Drive/COVID(ds5786)/Explainable-COVID-19-Pneumonia/covid_19/src/data/preprocess.py\""
      ],
      "execution_count": 36,
      "outputs": [
        {
          "output_type": "stream",
          "text": [
            "Traceback (most recent call last):\n",
            "  File \"/content/drive/My Drive/COVID(ds5786)/Explainable-COVID-19-Pneumonia/covid_19/src/data/preprocess.py\", line 168, in <module>\n",
            "    preprocess()\n",
            "  File \"/content/drive/My Drive/COVID(ds5786)/Explainable-COVID-19-Pneumonia/covid_19/src/data/preprocess.py\", line 149, in preprocess\n",
            "    file_df = build_dataset(cfg)\n",
            "  File \"/content/drive/My Drive/COVID(ds5786)/Explainable-COVID-19-Pneumonia/covid_19/src/data/preprocess.py\", line 47, in build_dataset\n",
            "    rsna_df = pd.read_csv(rsna_metadata_path)\n",
            "  File \"/usr/local/lib/python3.6/dist-packages/pandas/io/parsers.py\", line 685, in parser_f\n",
            "    return _read(filepath_or_buffer, kwds)\n",
            "  File \"/usr/local/lib/python3.6/dist-packages/pandas/io/parsers.py\", line 457, in _read\n",
            "    parser = TextFileReader(fp_or_buf, **kwds)\n",
            "  File \"/usr/local/lib/python3.6/dist-packages/pandas/io/parsers.py\", line 895, in __init__\n",
            "    self._make_engine(self.engine)\n",
            "  File \"/usr/local/lib/python3.6/dist-packages/pandas/io/parsers.py\", line 1135, in _make_engine\n",
            "    self._engine = CParserWrapper(self.f, **self.options)\n",
            "  File \"/usr/local/lib/python3.6/dist-packages/pandas/io/parsers.py\", line 1917, in __init__\n",
            "    self._reader = parsers.TextReader(src, **kwds)\n",
            "  File \"pandas/_libs/parsers.pyx\", line 382, in pandas._libs.parsers.TextReader.__cinit__\n",
            "  File \"pandas/_libs/parsers.pyx\", line 689, in pandas._libs.parsers.TextReader._setup_parser_source\n",
            "FileNotFoundError: [Errno 2] File b'/content/drive/My Drive/COVID(ds5786)/Explainable-COVID-19-Pneumonia/covid_19/data/rsna/stage_2_train_labels.csv' does not exist: b'/content/drive/My Drive/COVID(ds5786)/Explainable-COVID-19-Pneumonia/covid_19/data/rsna/stage_2_train_labels.csv'\n"
          ],
          "name": "stdout"
        }
      ]
    },
    {
      "cell_type": "markdown",
      "metadata": {
        "id": "2WxwFXuQXlQH",
        "colab_type": "text"
      },
      "source": [
        "If you have correctly saved the datasets in the `data` folder, the preprocessing python file will save the preprocessed DataFrames and corresponding images of the dataset within the `data/preprocessed/` folder. We can now observe that we have new folders titled `train, test,` and `val` within `data/preprocessed`, and three new files titled `train_set.csv, val_set.csv, and test_set.csv.`"
      ]
    },
    {
      "cell_type": "markdown",
      "metadata": {
        "id": "xyjT4MvUZh50",
        "colab_type": "text"
      },
      "source": [
        "Now that we have preprocessed the files, we can now train the neural network by running `train.py`\n"
      ]
    },
    {
      "cell_type": "code",
      "metadata": {
        "id": "ijP3LOK1ZwYK",
        "colab_type": "code",
        "colab": {}
      },
      "source": [
        "!python \"/content/drive/My Drive/COVID(ds5786)/Explainable-COVID-19-Pneumonia/covid_19/src/train.py\""
      ],
      "execution_count": 0,
      "outputs": []
    },
    {
      "cell_type": "markdown",
      "metadata": {
        "id": "qDLwQ9z9Z3Qb",
        "colab_type": "text"
      },
      "source": [
        "Please take note that training the neural networks may take several hours using GPU on Colab. The K80 GPU on Colab may be very slow so please be patient. Ensure that Colab does not timeout during code execution. We follow a few optimizations to make the processing more efficient such as **lowering the epochs significantly from the default 200 to 10**. We also update config.yml to use our Google Drive project destination after the model weights are generated."
      ]
    }
  ]
}