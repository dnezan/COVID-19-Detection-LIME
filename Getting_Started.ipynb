{
  "nbformat": 4,
  "nbformat_minor": 0,
  "metadata": {
    "colab": {
      "name": "Getting Started.ipynb",
      "provenance": []
    },
    "kernelspec": {
      "name": "python3",
      "display_name": "Python 3"
    }
  },
  "cells": [
    {
      "cell_type": "markdown",
      "metadata": {
        "id": "_UYyw4VBQzrc",
        "colab_type": "text"
      },
      "source": [
        "# Explainable COVID-19 Pneumonia\n",
        "### CS-GY-6133 Spring 2020\n",
        "### Project 5\n",
        "### Dinesh Sreekanthan(NetID:ds5786)"
      ]
    },
    {
      "cell_type": "code",
      "metadata": {
        "id": "Uos9-CLoRBRM",
        "colab_type": "code",
        "colab": {}
      },
      "source": [
        "from google.colab import drive\n",
        "drive.mount('/content/drive')"
      ],
      "execution_count": 0,
      "outputs": []
    },
    {
      "cell_type": "markdown",
      "metadata": {
        "id": "CdD8O24uRCPN",
        "colab_type": "text"
      },
      "source": [
        "# Introduction\n",
        "\n",
        "We only share this notebook because following steps of this notebook will lead you to download our data in your google drive, and give you another .ipynb file to run our code.<br>\n",
        "\n",
        "After you succsesfully run this notebook, you will have a cloned file in your Google Colab Drive with file name __CS6133_MINST(jk5726,ds5786)__. <br>\n",
        "\n",
        "In that file, __we have our Colab notebook, codes,__and __a report (colab version).__ <br>\n",
        "\n",
        "Let's start!\n"
      ]
    },
    {
      "cell_type": "markdown",
      "metadata": {
        "id": "m4iGZ-jSRJ2c",
        "colab_type": "text"
      },
      "source": [
        "# Mount to your Google Drive"
      ]
    },
    {
      "cell_type": "code",
      "metadata": {
        "id": "Y9OFpQO8RPgs",
        "colab_type": "code",
        "colab": {}
      },
      "source": [
        "from google.colab import drive\n",
        "drive.mount('/content/drive/')"
      ],
      "execution_count": 0,
      "outputs": []
    },
    {
      "cell_type": "markdown",
      "metadata": {
        "id": "KXyYafdvRZbs",
        "colab_type": "text"
      },
      "source": [
        "# Create a file to your Google Drive"
      ]
    },
    {
      "cell_type": "code",
      "metadata": {
        "id": "22Tz2wlARjyB",
        "colab_type": "code",
        "colab": {}
      },
      "source": [
        "%cd \"/content/drive/My Drive/\""
      ],
      "execution_count": 0,
      "outputs": []
    },
    {
      "cell_type": "code",
      "metadata": {
        "id": "HVSRY6ftRm7M",
        "colab_type": "code",
        "colab": {}
      },
      "source": [
        "!mkdir \"COVID(ds5786)\""
      ],
      "execution_count": 0,
      "outputs": []
    },
    {
      "cell_type": "markdown",
      "metadata": {
        "id": "Btngttm4RqLr",
        "colab_type": "text"
      },
      "source": [
        "by running this cell, you will have a directory called __\" CS6133_MINST(jk5726,ds5786)\"__ in your google Drive"
      ]
    },
    {
      "cell_type": "code",
      "metadata": {
        "id": "k68czZMlRu90",
        "colab_type": "code",
        "colab": {}
      },
      "source": [
        "!ls"
      ],
      "execution_count": 0,
      "outputs": []
    },
    {
      "cell_type": "markdown",
      "metadata": {
        "id": "fDPDqAqiRysT",
        "colab_type": "text"
      },
      "source": [
        "# Clone Github repository"
      ]
    },
    {
      "cell_type": "markdown",
      "metadata": {
        "id": "fgNquH-rSDFp",
        "colab_type": "text"
      },
      "source": [
        "First, you need to move your current location to the CS6133_MINST(id1,id2), and clone the github repo."
      ]
    },
    {
      "cell_type": "code",
      "metadata": {
        "id": "cyJuw1YaSHAx",
        "colab_type": "code",
        "colab": {}
      },
      "source": [
        "%cd \"/content/drive/My Drive/COVID(ds5786)/\""
      ],
      "execution_count": 0,
      "outputs": []
    },
    {
      "cell_type": "code",
      "metadata": {
        "id": "zhx1n-UeSKYU",
        "colab_type": "code",
        "colab": {}
      },
      "source": [
        "!git clone https://github.com/.git"
      ],
      "execution_count": 0,
      "outputs": []
    },
    {
      "cell_type": "code",
      "metadata": {
        "id": "SAi11OCZSPfK",
        "colab_type": "code",
        "colab": {}
      },
      "source": [
        "%cd \"/content/drive/My Drive/COVID(ds5786)/Continual_Learning_with_Rotated_MNIST/\""
      ],
      "execution_count": 0,
      "outputs": []
    },
    {
      "cell_type": "code",
      "metadata": {
        "id": "5oWbzyRnSS9z",
        "colab_type": "code",
        "colab": {}
      },
      "source": [
        "!ls"
      ],
      "execution_count": 0,
      "outputs": []
    }
  ]
}